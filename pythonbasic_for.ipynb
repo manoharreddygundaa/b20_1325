{
  "nbformat": 4,
  "nbformat_minor": 0,
  "metadata": {
    "colab": {
      "provenance": [],
      "authorship_tag": "ABX9TyOnDQov0/U9kxUZ9L6WA2H3",
      "include_colab_link": true
    },
    "kernelspec": {
      "name": "python3",
      "display_name": "Python 3"
    },
    "language_info": {
      "name": "python"
    }
  },
  "cells": [
    {
      "cell_type": "markdown",
      "metadata": {
        "id": "view-in-github",
        "colab_type": "text"
      },
      "source": [
        "<a href=\"https://colab.research.google.com/github/manoharreddygundaa/b20_1325/blob/main/pythonbasic_for.ipynb\" target=\"_parent\"><img src=\"https://colab.research.google.com/assets/colab-badge.svg\" alt=\"Open In Colab\"/></a>"
      ]
    },
    {
      "cell_type": "code",
      "execution_count": 10,
      "metadata": {
        "colab": {
          "base_uri": "https://localhost:8080/"
        },
        "id": "FKJjDLEb7PpZ",
        "outputId": "d082dc0d-38ad-4163-db28-b1d73f1b6847"
      },
      "outputs": [
        {
          "output_type": "stream",
          "name": "stdout",
          "text": [
            "30\n",
            "-10\n",
            "200\n",
            "0.5\n",
            "0\n",
            "100000000000000000000\n",
            "False\n",
            "True\n",
            "False\n",
            "True\n",
            "False\n",
            "True\n",
            "False\n",
            "True\n",
            "True\n",
            "<class 'str'>\n",
            "enter your born year2005\n",
            "enter namemanohar\n",
            "manohar age is 20\n"
          ]
        }
      ],
      "source": [
        "# a=int(input(\"enter a value\"))\n",
        "# b=int(input(\"enter b value\"))\n",
        "# c=a+b\n",
        "# print(c)\n",
        "# # length of a string\n",
        "# f=\"manohar \"\n",
        "# l=\"reddy\"\n",
        "# print(f+l)\n",
        "# print(len(f+l))\n",
        "#arthematic\n",
        "a=10\n",
        "b=20\n",
        "print(a+b)\n",
        "print(a-b)\n",
        "print(a*b)\n",
        "print(a/b)\n",
        "print(a//b)\n",
        "print(a**b)\n",
        "#comparison or relational operators\n",
        "print(a>b)\n",
        "print(a<b)\n",
        "print(a>=b)\n",
        "print(a<=b)\n",
        "print(a==b)\n",
        "print(a!=b)\n",
        "#logical operators\n",
        "m=True\n",
        "n=False\n",
        "print(m and n)\n",
        "print(m or n)\n",
        "print(not n)\n",
        "#type conversions\n",
        "x=str(a);\n",
        "print(type(x))\n",
        "year=int(input(\"enter your born year\"))\n",
        "present_year=2025\n",
        "name=input(\"enter name\")\n",
        "print(name,\"age is\",present_year-year)\n"
      ]
    },
    {
      "cell_type": "code",
      "source": [
        "#gretest of three number\n",
        "a=10\n",
        "b=20\n",
        "c=30\n",
        "if(a>b and a>c):\n",
        "  print(\"a is greater\")\n",
        "elif(b>c and b>a):\n",
        "  print(\"b is greater\")\n",
        "else:\n",
        "  print(\"c is greater\")"
      ],
      "metadata": {
        "colab": {
          "base_uri": "https://localhost:8080/"
        },
        "id": "l5xz0YGB8Mj2",
        "outputId": "a1044993-3daf-4bc5-ac68-50ba7bbd4f0c"
      },
      "execution_count": 12,
      "outputs": [
        {
          "output_type": "stream",
          "name": "stdout",
          "text": [
            "c is greater\n"
          ]
        }
      ]
    },
    {
      "cell_type": "code",
      "source": [
        "marks=91\n",
        "if marks>=90:\n",
        "    print(\"Grade A\")\n",
        "elif marks>=80:\n",
        "    print(\"Grade B\")\n",
        "elif marks>=70:\n",
        "    print(\"Grade C\")\n",
        "elif marks>=60:\n",
        "    print(\"Grade D\")\n",
        "else:\n",
        "  print(\"better luck next time\")"
      ],
      "metadata": {
        "colab": {
          "base_uri": "https://localhost:8080/"
        },
        "id": "Pk0tz6Ac9tlA",
        "outputId": "5b700997-21f0-4bd9-ecac-664dcba822b9"
      },
      "execution_count": 14,
      "outputs": [
        {
          "output_type": "stream",
          "name": "stdout",
          "text": [
            "Grade A\n"
          ]
        }
      ]
    },
    {
      "cell_type": "code",
      "source": [
        "#looping statements\n",
        "for i in range(1,11):#11 is excluded\n",
        "  print(i)\n",
        "a=10"
      ],
      "metadata": {
        "colab": {
          "base_uri": "https://localhost:8080/"
        },
        "id": "pdJyjQtM-v4M",
        "outputId": "a3c3949a-ff51-49ff-ddf4-9d3162a16a33"
      },
      "execution_count": 19,
      "outputs": [
        {
          "output_type": "stream",
          "name": "stdout",
          "text": [
            "1\n",
            "2\n",
            "3\n",
            "4\n",
            "5\n",
            "6\n",
            "7\n",
            "8\n",
            "9\n",
            "10\n"
          ]
        }
      ]
    },
    {
      "cell_type": "code",
      "source": [
        "a=1\n",
        "while(a<=10):\n",
        "  print(a)\n",
        "  a=a+1"
      ],
      "metadata": {
        "colab": {
          "base_uri": "https://localhost:8080/"
        },
        "id": "d8FGlJId_cre",
        "outputId": "c70e7333-09fe-4396-f84c-0ddffa8b8976"
      },
      "execution_count": 28,
      "outputs": [
        {
          "output_type": "stream",
          "name": "stdout",
          "text": [
            "1\n",
            "2\n",
            "3\n",
            "4\n",
            "5\n",
            "6\n",
            "7\n",
            "8\n",
            "9\n",
            "10\n"
          ]
        }
      ]
    },
    {
      "cell_type": "code",
      "source": [
        "#loop cotroling statements\n",
        "for i in range(1,11):\n",
        "  if i==9:\n",
        "    break\n",
        "  elif(i==1):\n",
        "    continue\n",
        "  print(i)"
      ],
      "metadata": {
        "colab": {
          "base_uri": "https://localhost:8080/"
        },
        "id": "ZUCALDxXAFYX",
        "outputId": "49af67ff-f880-4d77-dd2f-b5feb6a20e65"
      },
      "execution_count": 32,
      "outputs": [
        {
          "output_type": "stream",
          "name": "stdout",
          "text": [
            "2\n",
            "3\n",
            "4\n",
            "5\n",
            "6\n",
            "7\n",
            "8\n"
          ]
        }
      ]
    },
    {
      "cell_type": "code",
      "source": [
        "#even or odd\n",
        "a=int(input(\"enter a number\"))\n",
        "if(a%2==0):\n",
        "  print(\"even\")\n",
        "else:\n",
        "  print(\"odd\")"
      ],
      "metadata": {
        "colab": {
          "base_uri": "https://localhost:8080/"
        },
        "id": "daoml-AVCHbk",
        "outputId": "f973f942-5ec6-4f81-a9d8-8eaab9ed80b5"
      },
      "execution_count": 33,
      "outputs": [
        {
          "output_type": "stream",
          "name": "stdout",
          "text": [
            "enter a number2\n",
            "even\n"
          ]
        }
      ]
    }
  ]
}